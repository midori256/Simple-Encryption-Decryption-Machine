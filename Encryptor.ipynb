{
 "cells": [
  {
   "cell_type": "markdown",
   "source": [
    "## Getting the message and translating it into numbers"
   ],
   "metadata": {}
  },
  {
   "cell_type": "code",
   "execution_count": 65,
   "source": [
    "# Step 1\n",
    "# Import the message_to_encrypt.txt file\n",
    "message_file = open(\"message_to_encrypt.txt\", \"r\")"
   ],
   "outputs": [],
   "metadata": {}
  },
  {
   "cell_type": "code",
   "execution_count": 66,
   "source": [
    "# Store messages in a list\n",
    "message_list = []\n",
    "for line in message_file:\n",
    "    message_list.append(line)\n",
    "    print(line)\n"
   ],
   "outputs": [
    {
     "output_type": "stream",
     "name": "stdout",
     "text": [
      "i have a pet parrot\n",
      "\n",
      "it likes to gossip\n",
      "\n",
      "and eat sunflower seeds\n",
      "\n"
     ]
    }
   ],
   "metadata": {}
  },
  {
   "cell_type": "code",
   "execution_count": 67,
   "source": [
    "message_list"
   ],
   "outputs": [
    {
     "output_type": "execute_result",
     "data": {
      "text/plain": [
       "['i have a pet parrot\\n', 'it likes to gossip\\n', 'and eat sunflower seeds\\n']"
      ]
     },
     "metadata": {},
     "execution_count": 67
    }
   ],
   "metadata": {}
  },
  {
   "cell_type": "code",
   "execution_count": 68,
   "source": [
    "# Create a list of all letters\n",
    "letter_list = []\n",
    "for string in message_list:\n",
    "    for letter in string:\n",
    "        letter_list.append(letter)"
   ],
   "outputs": [],
   "metadata": {}
  },
  {
   "cell_type": "code",
   "execution_count": 70,
   "source": [
    "translation_dict = {'a':1, 'b':2,'c':3, 'd':4, 'e':5,'f':6,'g':7,'h':8,'i':9,'j':10,'k':11,'l':12,'m':13,'n':14,'o':15,'p':16,'q':17,'r':18,'s':19,'t':20,'u':21,'v':22,'w':23,'x':24,'y':25,'z':26,' ':27,'\\n':28}\n",
    "translation_dict"
   ],
   "outputs": [
    {
     "output_type": "execute_result",
     "data": {
      "text/plain": [
       "{'a': 1,\n",
       " 'b': 2,\n",
       " 'c': 3,\n",
       " 'd': 4,\n",
       " 'e': 5,\n",
       " 'f': 6,\n",
       " 'g': 7,\n",
       " 'h': 8,\n",
       " 'i': 9,\n",
       " 'j': 10,\n",
       " 'k': 11,\n",
       " 'l': 12,\n",
       " 'm': 13,\n",
       " 'n': 14,\n",
       " 'o': 15,\n",
       " 'p': 16,\n",
       " 'q': 17,\n",
       " 'r': 18,\n",
       " 's': 19,\n",
       " 't': 20,\n",
       " 'u': 21,\n",
       " 'v': 22,\n",
       " 'w': 23,\n",
       " 'x': 24,\n",
       " 'y': 25,\n",
       " 'z': 26,\n",
       " ' ': 27,\n",
       " '\\n': 28}"
      ]
     },
     "metadata": {},
     "execution_count": 70
    }
   ],
   "metadata": {}
  },
  {
   "cell_type": "code",
   "execution_count": 71,
   "source": [
    "# Translate letters into numbers\n",
    "translated = []\n",
    "for letter in letter_list:\n",
    "    for key, val in translation_dict.items():\n",
    "        if letter.lower() == key:\n",
    "            translated.append(val)"
   ],
   "outputs": [],
   "metadata": {}
  },
  {
   "cell_type": "markdown",
   "source": [
    "## Getting RSA key pair"
   ],
   "metadata": {}
  },
  {
   "cell_type": "code",
   "execution_count": 72,
   "source": [
    "# Decide p and q\n",
    "p = 23\n",
    "q = 47\n",
    "n = p*q\n",
    "func_n = (p - 1)*(q - 1)\n",
    "print(n, func_n)"
   ],
   "outputs": [
    {
     "output_type": "stream",
     "name": "stdout",
     "text": [
      "1081 1012\n"
     ]
    }
   ],
   "metadata": {}
  },
  {
   "cell_type": "code",
   "execution_count": 73,
   "source": [
    "e = 5\n",
    "# Check if n is divisible by e\n",
    "import math\n",
    "math.gcd(func_n,e)"
   ],
   "outputs": [
    {
     "output_type": "execute_result",
     "data": {
      "text/plain": [
       "1"
      ]
     },
     "metadata": {},
     "execution_count": 73
    }
   ],
   "metadata": {}
  },
  {
   "cell_type": "code",
   "execution_count": 74,
   "source": [
    "print('My public key is',n , 'and', e)"
   ],
   "outputs": [
    {
     "output_type": "stream",
     "name": "stdout",
     "text": [
      "My public key is 1081 and 5\n"
     ]
    }
   ],
   "metadata": {}
  },
  {
   "cell_type": "code",
   "execution_count": 75,
   "source": [
    "# Calculate private key\n",
    "i = 2\n",
    "d = int((i*func_n + 1)/e)\n",
    "print('My private key is ',d)"
   ],
   "outputs": [
    {
     "output_type": "stream",
     "name": "stdout",
     "text": [
      "My private key is  405\n"
     ]
    }
   ],
   "metadata": {}
  },
  {
   "cell_type": "markdown",
   "source": [
    "## Encrypting the message"
   ],
   "metadata": {}
  },
  {
   "cell_type": "code",
   "execution_count": 76,
   "source": [
    "# Create cipher list\n",
    "c_list = []\n",
    "for num in translated:\n",
    "    c = (num**e) % n\n",
    "    c_list.append(c)\n",
    "\n",
    "c_list\n"
   ],
   "outputs": [
    {
     "output_type": "execute_result",
     "data": {
      "text/plain": [
       "[675,\n",
       " 794,\n",
       " 338,\n",
       " 1,\n",
       " 505,\n",
       " 963,\n",
       " 794,\n",
       " 1,\n",
       " 794,\n",
       " 6,\n",
       " 963,\n",
       " 240,\n",
       " 794,\n",
       " 6,\n",
       " 1,\n",
       " 1061,\n",
       " 1061,\n",
       " 513,\n",
       " 240,\n",
       " 848,\n",
       " 675,\n",
       " 240,\n",
       " 794,\n",
       " 202,\n",
       " 675,\n",
       " 1063,\n",
       " 963,\n",
       " 609,\n",
       " 794,\n",
       " 240,\n",
       " 513,\n",
       " 794,\n",
       " 592,\n",
       " 513,\n",
       " 609,\n",
       " 609,\n",
       " 675,\n",
       " 6,\n",
       " 848,\n",
       " 1,\n",
       " 567,\n",
       " 1024,\n",
       " 794,\n",
       " 963,\n",
       " 1,\n",
       " 240,\n",
       " 794,\n",
       " 609,\n",
       " 83,\n",
       " 567,\n",
       " 209,\n",
       " 202,\n",
       " 513,\n",
       " 69,\n",
       " 963,\n",
       " 1061,\n",
       " 794,\n",
       " 609,\n",
       " 963,\n",
       " 963,\n",
       " 1024,\n",
       " 609,\n",
       " 848]"
      ]
     },
     "metadata": {},
     "execution_count": 76
    }
   ],
   "metadata": {}
  },
  {
   "cell_type": "markdown",
   "source": [
    "## Decrypting the message"
   ],
   "metadata": {}
  },
  {
   "cell_type": "code",
   "execution_count": 77,
   "source": [
    "# Create a decrypted list\n",
    "decrypted_list = []\n",
    "for num in c_list:\n",
    "    decrypted_num = (num**d) % n\n",
    "    decrypted_list.append(decrypted_num)"
   ],
   "outputs": [],
   "metadata": {}
  },
  {
   "cell_type": "code",
   "execution_count": 78,
   "source": [
    "decrypted_letters = []\n",
    "for num in decrypted_list:\n",
    "    for key,val in translation_dict.items():\n",
    "        if num == val:\n",
    "            decrypted_letters.append(key)"
   ],
   "outputs": [],
   "metadata": {}
  },
  {
   "cell_type": "code",
   "execution_count": 79,
   "source": [
    "\n",
    "decrypted_message = \"\".join(decrypted_letters)\n",
    "print(decrypted_message)"
   ],
   "outputs": [
    {
     "output_type": "stream",
     "name": "stdout",
     "text": [
      "i have a pet parrot\n",
      "it likes to gossip\n",
      "and eat sunflower seeds\n",
      "\n"
     ]
    }
   ],
   "metadata": {}
  }
 ],
 "metadata": {
  "orig_nbformat": 4,
  "language_info": {
   "name": "python",
   "version": "3.9.2",
   "mimetype": "text/x-python",
   "codemirror_mode": {
    "name": "ipython",
    "version": 3
   },
   "pygments_lexer": "ipython3",
   "nbconvert_exporter": "python",
   "file_extension": ".py"
  },
  "kernelspec": {
   "name": "python3",
   "display_name": "Python 3.9.2 64-bit ('encryption_machine_fellow-GiOrp3gc': venv)"
  },
  "interpreter": {
   "hash": "0f2d98e7970a01c75ed5cf2ffa244376c1869e0e6e1d948e14d3de5637bfa028"
  }
 },
 "nbformat": 4,
 "nbformat_minor": 2
}