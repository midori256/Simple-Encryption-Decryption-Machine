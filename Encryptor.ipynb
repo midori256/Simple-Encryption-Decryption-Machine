{
 "cells": [
  {
   "cell_type": "code",
   "execution_count": 23,
   "source": [
    "# Step 1\n",
    "# Import the message_to_encrypt.txt file\n",
    "message_file = open(\"message_to_encrypt.txt\", \"r\")"
   ],
   "outputs": [],
   "metadata": {}
  },
  {
   "cell_type": "code",
   "execution_count": 24,
   "source": [
    "# Store messages in a list\n",
    "message_list = []\n",
    "for line in message_file:\n",
    "    message_list.append(line.strip('\\n'))\n",
    "    print(line)\n"
   ],
   "outputs": [
    {
     "output_type": "stream",
     "name": "stdout",
     "text": [
      "i have a pet parrot\n",
      "\n",
      "it likes to gossip\n",
      "\n",
      "and eat sunflower seeds\n",
      "\n"
     ]
    }
   ],
   "metadata": {}
  },
  {
   "cell_type": "code",
   "execution_count": 25,
   "source": [
    "message_list"
   ],
   "outputs": [
    {
     "output_type": "execute_result",
     "data": {
      "text/plain": [
       "['i have a pet parrot', 'it likes to gossip', 'and eat sunflower seeds']"
      ]
     },
     "metadata": {},
     "execution_count": 25
    }
   ],
   "metadata": {}
  },
  {
   "cell_type": "code",
   "execution_count": null,
   "source": [],
   "outputs": [],
   "metadata": {}
  }
 ],
 "metadata": {
  "orig_nbformat": 4,
  "language_info": {
   "name": "python",
   "version": "3.9.2",
   "mimetype": "text/x-python",
   "codemirror_mode": {
    "name": "ipython",
    "version": 3
   },
   "pygments_lexer": "ipython3",
   "nbconvert_exporter": "python",
   "file_extension": ".py"
  },
  "kernelspec": {
   "name": "python3",
   "display_name": "Python 3.9.2 64-bit ('encryption_machine_fellow-GiOrp3gc': venv)"
  },
  "interpreter": {
   "hash": "0f2d98e7970a01c75ed5cf2ffa244376c1869e0e6e1d948e14d3de5637bfa028"
  }
 },
 "nbformat": 4,
 "nbformat_minor": 2
}